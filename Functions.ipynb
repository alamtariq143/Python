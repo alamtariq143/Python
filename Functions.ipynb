{
  "cells": [
    {
      "cell_type": "markdown",
      "metadata": {
        "id": "view-in-github",
        "colab_type": "text"
      },
      "source": [
        "<a href=\"https://colab.research.google.com/github/alamtariq143/Python/blob/main/Functions.ipynb\" target=\"_parent\"><img src=\"https://colab.research.google.com/assets/colab-badge.svg\" alt=\"Open In Colab\"/></a>"
      ]
    },
    {
      "cell_type": "markdown",
      "metadata": {
        "id": "89qGQvhT0qox"
      },
      "source": [
        "# Functions\n",
        "\n",
        "- 1. Code Reusability\n",
        "- 2. Similar to procedures in SQL"
      ]
    },
    {
      "cell_type": "code",
      "execution_count": null,
      "metadata": {
        "id": "iI8YRR7I0qoy",
        "outputId": "a419a5eb-4e0d-42f8-8569-404520cc1465"
      },
      "outputs": [
        {
          "name": "stdout",
          "output_type": "stream",
          "text": [
            "The Sum: 30\n",
            "The Difference: 10\n",
            "The Product: 200\n"
          ]
        }
      ],
      "source": [
        "def calculate(a,b):\n",
        "    print(\"The Sum:\", a+b)\n",
        "    print(\"The Difference:\", a-b)\n",
        "    print(\"The Product:\", a*b)\n",
        "\n",
        "calculate(20,10)"
      ]
    },
    {
      "cell_type": "markdown",
      "metadata": {
        "id": "sgnQ4qhR0qo0"
      },
      "source": [
        "### Types of Functions\n",
        "\n",
        "- 1. Built-in Functions/ Predefined Functions\n",
        "* Italic print(), eval(), type() *\n",
        "- 2. User Defined Functions / Customsised Functions"
      ]
    },
    {
      "cell_type": "code",
      "execution_count": null,
      "metadata": {
        "id": "gnLMc8hy0qo0",
        "outputId": "ed7bb8a5-04ab-46a8-fd91-9e1c2672340f"
      },
      "outputs": [
        {
          "name": "stdout",
          "output_type": "stream",
          "text": [
            "Hello friends, Good Evening!\n",
            "Hello friends, Good Evening!\n"
          ]
        }
      ],
      "source": [
        "def wish():\n",
        "    print(\"Hello friends, Good Evening!\")\n",
        "\n",
        "wish()\n",
        "wish()"
      ]
    },
    {
      "cell_type": "code",
      "execution_count": null,
      "metadata": {
        "id": "nfaNHuGT0qo0",
        "outputId": "83f5d025-760e-490f-a849-472b55bb2fa1"
      },
      "outputs": [
        {
          "ename": "TypeError",
          "evalue": "wish() missing 1 required positional argument: 'name'",
          "output_type": "error",
          "traceback": [
            "\u001b[0;31m---------------------------------------------------------------------------\u001b[0m",
            "\u001b[0;31mTypeError\u001b[0m                                 Traceback (most recent call last)",
            "Input \u001b[0;32mIn [7]\u001b[0m, in \u001b[0;36m<cell line: 4>\u001b[0;34m()\u001b[0m\n\u001b[1;32m      1\u001b[0m \u001b[38;5;28;01mdef\u001b[39;00m \u001b[38;5;21mwish\u001b[39m(name):\n\u001b[1;32m      2\u001b[0m     \u001b[38;5;28mprint\u001b[39m(\u001b[38;5;124m'\u001b[39m\u001b[38;5;124mHello\u001b[39m\u001b[38;5;124m'\u001b[39m, name, \u001b[38;5;124m'\u001b[39m\u001b[38;5;124mGood Morning!\u001b[39m\u001b[38;5;124m'\u001b[39m)\n\u001b[0;32m----> 4\u001b[0m \u001b[43mwish\u001b[49m\u001b[43m(\u001b[49m\u001b[43m)\u001b[49m\n",
            "\u001b[0;31mTypeError\u001b[0m: wish() missing 1 required positional argument: 'name'"
          ]
        }
      ],
      "source": [
        "#Parameter Statement\n",
        "\n",
        "def wish(name):\n",
        "    print('Hello', name, 'Good Morning!')\n",
        "\n",
        "wish()"
      ]
    },
    {
      "cell_type": "code",
      "execution_count": null,
      "metadata": {
        "id": "xzVIh5XV0qo0",
        "outputId": "c6105713-e362-4c16-f1c4-984ccc961182"
      },
      "outputs": [
        {
          "name": "stdout",
          "output_type": "stream",
          "text": [
            "Hello Sam Good Morning!\n",
            "Hello Ayaz Good Morning!\n"
          ]
        }
      ],
      "source": [
        "def wish(name):\n",
        "    print('Hello', name, 'Good Morning!')\n",
        "\n",
        "wish('Sam')\n",
        "wish('Ayaz')"
      ]
    },
    {
      "cell_type": "markdown",
      "metadata": {
        "id": "hO2W_n2g0qo0"
      },
      "source": [
        "**Exercise 1**\n",
        "\n",
        "**WAF to take a number as input and print it's square value.**"
      ]
    },
    {
      "cell_type": "code",
      "execution_count": null,
      "metadata": {
        "id": "ryQF-Ozm0qo1"
      },
      "outputs": [],
      "source": [
        "n = int(input(\"Enter a number: \"))\n",
        "def squared(n):\n",
        "    print('The square value is', n*n)\n",
        "\n",
        "squared()"
      ]
    },
    {
      "cell_type": "code",
      "execution_count": null,
      "metadata": {
        "id": "XkjMSHuB0qo1",
        "outputId": "9e458a13-4e76-4094-a9a5-836f405b0d12"
      },
      "outputs": [
        {
          "name": "stdout",
          "output_type": "stream",
          "text": [
            "The square of 2 is : 4\n",
            "The square of 3 is : 9\n",
            "The square of 4 is : 16\n"
          ]
        }
      ],
      "source": [
        "def squareit(n):\n",
        "    sq = n*n\n",
        "    print('The square of {} is : {}'.format(n,sq))\n",
        "\n",
        "squareit(2)\n",
        "squareit(3)\n",
        "squareit(4)\n"
      ]
    },
    {
      "cell_type": "markdown",
      "source": [
        "# 2. Return Statement"
      ],
      "metadata": {
        "id": "NeY1aLjeAQmd"
      }
    },
    {
      "cell_type": "markdown",
      "metadata": {
        "id": "ZZwIo8li0qo2"
      },
      "source": [
        "**Exercise 2**\n",
        "\n",
        "**WAF to accept 2 numbers as input and return sum?**"
      ]
    },
    {
      "cell_type": "code",
      "execution_count": null,
      "metadata": {
        "id": "X4jAhUYB0qo1",
        "outputId": "83d42122-aabe-4fa9-95cc-fdf848e36fe8"
      },
      "outputs": [
        {
          "data": {
            "text/plain": [
              "30"
            ]
          },
          "execution_count": 4,
          "metadata": {},
          "output_type": "execute_result"
        }
      ],
      "source": [
        "# Return Statement\n",
        "\n",
        "def add(a,b):\n",
        "    sum = a+b\n",
        "    return sum\n",
        "\n",
        "add(10,20) #Didn't call the function from return."
      ]
    },
    {
      "cell_type": "code",
      "execution_count": null,
      "metadata": {
        "id": "PKY2SAE20qo1",
        "outputId": "8a1fdabc-faec-4522-cdbc-8b94a968b659"
      },
      "outputs": [
        {
          "name": "stdout",
          "output_type": "stream",
          "text": [
            "The sum: 30\n",
            "The Sum: 30\n"
          ]
        }
      ],
      "source": [
        "def add(a,b):\n",
        "    sum = a+b\n",
        "    return sum\n",
        "\n",
        "result  = add(10,20)\n",
        "\n",
        "print('The sum:' , result)\n",
        "print('The Sum:', add(10,20))"
      ]
    },
    {
      "cell_type": "markdown",
      "metadata": {
        "id": "jZl0E9in0qo1"
      },
      "source": [
        "**Exercise 3**\n",
        "\n",
        "**WAF to find factorial of given positive int value?**"
      ]
    },
    {
      "cell_type": "code",
      "execution_count": null,
      "metadata": {
        "id": "38-yz1Jg0qo1",
        "outputId": "2b33050d-419e-482e-bdae-6f2ffac52df6"
      },
      "outputs": [
        {
          "name": "stdout",
          "output_type": "stream",
          "text": [
            "The factorial of 3 is : 6\n",
            "The factorial of 3 is : 24\n"
          ]
        }
      ],
      "source": [
        "def factorial(num):\n",
        "    result = 1\n",
        "    while num >= 1:\n",
        "        result = result * num\n",
        "        num = num - 1\n",
        "    return result\n",
        "\n",
        "print('The factorial of 3 is :', factorial(3))\n",
        "print('The factorial of 3 is :', factorial(4))"
      ]
    },
    {
      "cell_type": "code",
      "execution_count": null,
      "metadata": {
        "id": "2N0olSx60qo2",
        "outputId": "68771b75-1a6c-4e7b-a936-82bf2ac5adaf"
      },
      "outputs": [
        {
          "name": "stdout",
          "output_type": "stream",
          "text": [
            "The factorial of 1 is : 1\n",
            "The factorial of 2 is : 2\n",
            "The factorial of 3 is : 6\n",
            "The factorial of 4 is : 24\n",
            "The factorial of 5 is : 120\n"
          ]
        }
      ],
      "source": [
        "def factorial(num):\n",
        "    result = 1\n",
        "    while num >= 1:\n",
        "        result = result * num\n",
        "        num = num - 1\n",
        "    return result\n",
        "for i in range (1,6):\n",
        "    print('The factorial of', i ,'is :', factorial(i))"
      ]
    },
    {
      "cell_type": "markdown",
      "source": [
        "# 3. Returning Multiple Values from a Function"
      ],
      "metadata": {
        "id": "iViqAnjoAYfE"
      }
    },
    {
      "cell_type": "code",
      "source": [
        "def sum_sub(a,b):\n",
        "    sum = a+b\n",
        "    sub = a-b\n",
        "    return sum, sub\n",
        "\n",
        "x, y = sum_sub(30,20)\n",
        "print(\"The Sum:\",x)\n",
        "print(\"The Difference:\",y)"
      ],
      "metadata": {
        "colab": {
          "base_uri": "https://localhost:8080/"
        },
        "id": "pRQhwZ61A3Kv",
        "outputId": "63901a5d-24ea-4f2c-c6ba-a2389e2bad50"
      },
      "execution_count": null,
      "outputs": [
        {
          "output_type": "stream",
          "name": "stdout",
          "text": [
            "The Sum: 50\n",
            "The Difference: 10\n"
          ]
        }
      ]
    },
    {
      "cell_type": "code",
      "source": [
        "def calc(x, y):\n",
        "  sum = x + y\n",
        "  sub = x - y\n",
        "  mul = x * y\n",
        "  div = x / y\n",
        "  return sum, sub, mul, div\n",
        "\n",
        "result = calc(20, 10)\n",
        "print(type(result))\n",
        "print(result)\n",
        "\n",
        "for x in result:\n",
        "  print(x)"
      ],
      "metadata": {
        "colab": {
          "base_uri": "https://localhost:8080/"
        },
        "id": "umQpaB6U3zZt",
        "outputId": "565e23ec-d511-45c5-e52d-db1f8bdb8626"
      },
      "execution_count": null,
      "outputs": [
        {
          "output_type": "stream",
          "name": "stdout",
          "text": [
            "<class 'tuple'>\n",
            "(30, 10, 200, 2.0)\n",
            "30\n",
            "10\n",
            "200\n",
            "2.0\n"
          ]
        }
      ]
    },
    {
      "cell_type": "markdown",
      "source": [
        "# 4. Type of Arguments : Positional Arguments"
      ],
      "metadata": {
        "id": "aFDcCrRL47Nh"
      }
    },
    {
      "cell_type": "markdown",
      "source": [
        "**Exercise 4**\n",
        "\n",
        "**WAF to find factorial of given positive int value?**"
      ],
      "metadata": {
        "id": "ggAnNnI35k_c"
      }
    },
    {
      "cell_type": "markdown",
      "source": [
        "```\n",
        "# Difference between *args & ***kwargs\n",
        "```\n",
        "**args = Variable Length Arguments,\n",
        "**args = Variable Length Keyword Arguments"
      ],
      "metadata": {
        "id": "e9jBa9PEJFud"
      }
    },
    {
      "cell_type": "code",
      "source": [
        "# *args\n",
        "\n",
        "def f1(*m):\n",
        "  print(m)\n",
        "  print(type(m))\n",
        "\n",
        "f1(10)\n",
        "print(type(f1))\n"
      ],
      "metadata": {
        "colab": {
          "base_uri": "https://localhost:8080/"
        },
        "id": "9fYiwYsy0-vP",
        "outputId": "342cf855-c230-4bcc-f157-2b297490e1bc"
      },
      "execution_count": null,
      "outputs": [
        {
          "output_type": "stream",
          "name": "stdout",
          "text": [
            "(10,)\n",
            "<class 'tuple'>\n",
            "<class 'function'>\n"
          ]
        }
      ]
    },
    {
      "cell_type": "code",
      "source": [
        "def f2(**n):\n",
        "  print(n)\n",
        "  print(type(n))\n",
        "\n",
        "f2(a=10, b=20, c=30)\n",
        "print(type(f2))\n"
      ],
      "metadata": {
        "colab": {
          "base_uri": "https://localhost:8080/"
        },
        "id": "4UWx3pkaLioS",
        "outputId": "6f450930-a624-44c6-80b0-bd0e370f5661"
      },
      "execution_count": null,
      "outputs": [
        {
          "output_type": "stream",
          "name": "stdout",
          "text": [
            "{'a': 10, 'b': 20, 'c': 30}\n",
            "<class 'dict'>\n",
            "<class 'function'>\n"
          ]
        }
      ]
    },
    {
      "cell_type": "code",
      "source": [
        "def f3(*args, **kwargs):\n",
        "  print(args)\n",
        "  print(type(args))\n",
        "  print(kwargs)\n",
        "  print(type(kwargs))\n",
        "\n",
        "f3(10, 20, 30, 40, 50, a=100, b=200, c=300)"
      ],
      "metadata": {
        "colab": {
          "base_uri": "https://localhost:8080/"
        },
        "id": "2vYEA1EyM4LQ",
        "outputId": "dea92c2b-6b27-46ad-c807-9a2a2aefacc8"
      },
      "execution_count": null,
      "outputs": [
        {
          "output_type": "stream",
          "name": "stdout",
          "text": [
            "(10, 20, 30, 40, 50)\n",
            "<class 'tuple'>\n",
            "{'a': 100, 'b': 200, 'c': 300}\n",
            "<class 'dict'>\n"
          ]
        }
      ]
    },
    {
      "cell_type": "code",
      "source": [
        "def f4(**kwarg, *args):\n",
        "  print(kwarg)\n",
        "  print(type(kwarg))\n",
        "  print(args)\n",
        "  print(type(args))\n",
        "\n",
        "f4(a=10, b=20, c=30, d=40)"
      ],
      "metadata": {
        "colab": {
          "base_uri": "https://localhost:8080/",
          "height": 108
        },
        "id": "0hwTfUkkQw66",
        "outputId": "5c4f4ca6-fbaa-4179-997c-6a4a3429cb83"
      },
      "execution_count": null,
      "outputs": [
        {
          "output_type": "error",
          "ename": "SyntaxError",
          "evalue": "invalid syntax (<ipython-input-15-8ba1847a581d>, line 1)",
          "traceback": [
            "\u001b[0;36m  File \u001b[0;32m\"<ipython-input-15-8ba1847a581d>\"\u001b[0;36m, line \u001b[0;32m1\u001b[0m\n\u001b[0;31m    def f4(**kwarg, *args):\u001b[0m\n\u001b[0m                    ^\u001b[0m\n\u001b[0;31mSyntaxError\u001b[0m\u001b[0;31m:\u001b[0m invalid syntax\n"
          ]
        }
      ]
    },
    {
      "cell_type": "code",
      "source": [],
      "metadata": {
        "id": "B7xSa7ykRBSc"
      },
      "execution_count": null,
      "outputs": []
    }
  ],
  "metadata": {
    "kernelspec": {
      "display_name": "Python 3",
      "language": "python",
      "name": "python3"
    },
    "language_info": {
      "codemirror_mode": {
        "name": "ipython",
        "version": 3
      },
      "file_extension": ".py",
      "mimetype": "text/x-python",
      "name": "python",
      "nbconvert_exporter": "python",
      "pygments_lexer": "ipython3",
      "version": "3.10.4"
    },
    "colab": {
      "provenance": [],
      "include_colab_link": true
    }
  },
  "nbformat": 4,
  "nbformat_minor": 0
}